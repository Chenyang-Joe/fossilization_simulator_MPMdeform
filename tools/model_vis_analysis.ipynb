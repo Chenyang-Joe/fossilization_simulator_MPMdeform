{
 "cells": [
  {
   "cell_type": "code",
   "execution_count": 1,
   "id": "3e86a3b6-b7d1-4e7f-8ce0-e393a9530612",
   "metadata": {},
   "outputs": [
    {
     "name": "stdout",
     "output_type": "stream",
     "text": [
      "hello\n"
     ]
    }
   ],
   "source": [
    "print(\"hello\")"
   ]
  },
  {
   "cell_type": "code",
   "execution_count": 2,
   "id": "8d7e904a-7928-4ea4-8fdc-2124b09a630d",
   "metadata": {},
   "outputs": [],
   "source": [
    "import trimesh\n",
    "import meshplot as mp"
   ]
  },
  {
   "cell_type": "code",
   "execution_count": 3,
   "id": "482b7e12-8077-48c2-a053-2d9e0382b86d",
   "metadata": {},
   "outputs": [],
   "source": [
    "model_path = \"/home/cx2219/fossilization_simulator_MPMdeform/examples/gorilla/Gorilla-gorilla-gorilla-f-MCZ-26850-cranium-000387371.ply\""
   ]
  },
  {
   "cell_type": "code",
   "execution_count": 4,
   "id": "ed40df27-8c55-49a6-b265-c1c16ea4c958",
   "metadata": {},
   "outputs": [],
   "source": [
    "mesh = trimesh.load(model_path)\n",
    "vs = mesh.vertices\n",
    "fs = mesh.faces"
   ]
  },
  {
   "cell_type": "code",
   "execution_count": 5,
   "id": "4bdde5bc-8bf4-4d3b-ab0f-7b042176fac4",
   "metadata": {},
   "outputs": [
    {
     "name": "stderr",
     "output_type": "stream",
     "text": [
      "/home/cx2219/miniconda3/envs/mpmpytorch/lib/python3.9/site-packages/traittypes/traittypes.py:97: UserWarning: Given trait value dtype \"float32\" does not match required type \"float64\". A coerced copy has been created.\n",
      "  warnings.warn(\n",
      "/home/cx2219/miniconda3/envs/mpmpytorch/lib/python3.9/site-packages/traittypes/traittypes.py:97: UserWarning: Given trait value dtype \"uint32\" does not match required type \"float64\". A coerced copy has been created.\n",
      "  warnings.warn(\n"
     ]
    },
    {
     "data": {
      "application/vnd.jupyter.widget-view+json": {
       "model_id": "64ae9dfa33d04bb38048838ec2e41f87",
       "version_major": 2,
       "version_minor": 0
      },
      "text/plain": [
       "Renderer(camera=PerspectiveCamera(children=(DirectionalLight(color='white', intensity=0.6, position=(76.980282…"
      ]
     },
     "metadata": {},
     "output_type": "display_data"
    },
    {
     "data": {
      "text/plain": [
       "<meshplot.Viewer.Viewer at 0x72781990c190>"
      ]
     },
     "execution_count": 5,
     "metadata": {},
     "output_type": "execute_result"
    }
   ],
   "source": [
    "mp.plot(vs, fs)"
   ]
  },
  {
   "cell_type": "code",
   "execution_count": 6,
   "id": "7897cf73-5771-42c3-8400-bd741c88744e",
   "metadata": {},
   "outputs": [
    {
     "name": "stdout",
     "output_type": "stream",
     "text": [
      "706013\n",
      "1412262\n"
     ]
    }
   ],
   "source": [
    "print(len(mesh.vertices))\n",
    "print(len(mesh.faces))"
   ]
  },
  {
   "cell_type": "code",
   "execution_count": 3,
   "id": "dcc72760-84e5-411f-af61-e873bcddf85e",
   "metadata": {},
   "outputs": [
    {
     "name": "stderr",
     "output_type": "stream",
     "text": [
      "/home/cx2219/miniconda3/envs/mpmpytorch/lib/python3.9/site-packages/traittypes/traittypes.py:97: UserWarning: Given trait value dtype \"float32\" does not match required type \"float64\". A coerced copy has been created.\n",
      "  warnings.warn(\n",
      "/home/cx2219/miniconda3/envs/mpmpytorch/lib/python3.9/site-packages/traittypes/traittypes.py:97: UserWarning: Given trait value dtype \"uint32\" does not match required type \"float64\". A coerced copy has been created.\n",
      "  warnings.warn(\n"
     ]
    },
    {
     "data": {
      "application/vnd.jupyter.widget-view+json": {
       "model_id": "943d03a12efb4436994398ee96226b87",
       "version_major": 2,
       "version_minor": 0
      },
      "text/plain": [
       "Renderer(camera=PerspectiveCamera(children=(DirectionalLight(color='white', intensity=0.6, position=(0.3223930…"
      ]
     },
     "metadata": {},
     "output_type": "display_data"
    },
    {
     "data": {
      "text/plain": [
       "<meshplot.Viewer.Viewer at 0x71758c5db850>"
      ]
     },
     "execution_count": 3,
     "metadata": {},
     "output_type": "execute_result"
    }
   ],
   "source": [
    "model_path = \"/home/cx2219/fossilization_simulator_MPMdeform/model_simplified.obj\"\n",
    "mesh = trimesh.load(model_path)\n",
    "vs = mesh.vertices\n",
    "fs = mesh.faces\n",
    "mp.plot(vs, fs)"
   ]
  },
  {
   "cell_type": "code",
   "execution_count": 4,
   "id": "c17c9425-acc1-445a-8847-c7ee55cf6afd",
   "metadata": {},
   "outputs": [
    {
     "name": "stdout",
     "output_type": "stream",
     "text": [
      "9886\n",
      "20000\n"
     ]
    }
   ],
   "source": [
    "print(len(mesh.vertices))\n",
    "print(len(mesh.faces))\n"
   ]
  },
  {
   "cell_type": "code",
   "execution_count": null,
   "id": "2a798371-af81-4243-9aab-e866ee84cb41",
   "metadata": {},
   "outputs": [],
   "source": []
  }
 ],
 "metadata": {
  "kernelspec": {
   "display_name": "mpmpytorch",
   "language": "python",
   "name": "mpmpytorch"
  },
  "language_info": {
   "codemirror_mode": {
    "name": "ipython",
    "version": 3
   },
   "file_extension": ".py",
   "mimetype": "text/x-python",
   "name": "python",
   "nbconvert_exporter": "python",
   "pygments_lexer": "ipython3",
   "version": "3.9.23"
  }
 },
 "nbformat": 4,
 "nbformat_minor": 5
}
